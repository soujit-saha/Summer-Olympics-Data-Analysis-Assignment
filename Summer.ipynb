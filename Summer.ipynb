{
  "nbformat": 4,
  "nbformat_minor": 0,
  "metadata": {
    "kernelspec": {
      "display_name": "Python 2",
      "language": "python",
      "name": "python2"
    },
    "language_info": {
      "codemirror_mode": {
        "name": "ipython",
        "version": 2
      },
      "file_extension": ".py",
      "mimetype": "text/x-python",
      "name": "python",
      "nbconvert_exporter": "python",
      "pygments_lexer": "ipython2",
      "version": "2.7.16"
    },
    "colab": {
      "name": "Summer.ipynb",
      "provenance": [],
      "collapsed_sections": []
    }
  },
  "cells": [
    {
      "cell_type": "markdown",
      "metadata": {
        "id": "MWUuzsMpKAWt"
      },
      "source": [
        "# Summer Olympics Data Analysis Assignment"
      ]
    },
    {
      "cell_type": "code",
      "metadata": {
        "id": "2qp0ItIdKMsV"
      },
      "source": [
        "import pandas as ss\n",
        "data=ss.read_csv('summer.csv')"
      ],
      "execution_count": 3,
      "outputs": []
    },
    {
      "cell_type": "markdown",
      "metadata": {
        "id": "UYPyeFF_KAWy"
      },
      "source": [
        "### 1. In how many cities Summer Olympics is held so far?"
      ]
    },
    {
      "cell_type": "code",
      "metadata": {
        "colab": {
          "base_uri": "https://localhost:8080/"
        },
        "id": "ZnIkyAZ6KAWz",
        "outputId": "739caafb-418a-43e7-fe55-927ba00118cd"
      },
      "source": [
        "len(data['City'].unique())"
      ],
      "execution_count": null,
      "outputs": [
        {
          "output_type": "execute_result",
          "data": {
            "text/plain": [
              "22"
            ]
          },
          "metadata": {},
          "execution_count": 2
        }
      ]
    },
    {
      "cell_type": "markdown",
      "metadata": {
        "id": "qaUGNugDKAW1"
      },
      "source": [
        "### 2. Which sport is having most number of Gold Medals so far? (Top 5)"
      ]
    },
    {
      "cell_type": "code",
      "metadata": {
        "id": "zFLo_aIIKAW1",
        "colab": {
          "base_uri": "https://localhost:8080/",
          "height": 403
        },
        "outputId": "a80b53d6-14ac-4ba9-92d8-db829acc365f"
      },
      "source": [
        "gold_data=ss.DataFrame(data,columns = ['Sport','Medal']).where(data['Medal'] == 'Gold').sort_values(by = 'Medal')\n",
        "gold_data_me=[]\n",
        "for sport in gold_data['Sport'].unique():\n",
        "  gold_data_me.append([sport,len(gold_data[gold_data['Sport']== sport])])\n",
        "ss.DataFrame(gold_data_me,columns = ['Sport','Gold Medal']).sort_values(by='Gold Medal', ascending=False).head().plot(x = 'Sport', y = 'Gold Medal', kind = 'bar', figsize = (5,5))\n",
        "    "
      ],
      "execution_count": 6,
      "outputs": [
        {
          "output_type": "execute_result",
          "data": {
            "text/plain": [
              "<matplotlib.axes._subplots.AxesSubplot at 0x7f09cade6b50>"
            ]
          },
          "metadata": {},
          "execution_count": 6
        },
        {
          "output_type": "display_data",
          "data": {
            "image/png": "[encoded data removed]",
            "text/plain": [
              "<Figure size 360x360 with 1 Axes>"
            ]
          },
          "metadata": {
            "needs_background": "light"
          }
        }
      ]
    },
    {
      "cell_type": "markdown",
      "metadata": {
        "id": "LAfT40w4KAW2"
      },
      "source": [
        "### 3. Which sport is having most number of medals so far? (Top 5)"
      ]
    },
    {
      "cell_type": "code",
      "metadata": {
        "id": "tFHD3cJRKAW2",
        "colab": {
          "base_uri": "https://localhost:8080/",
          "height": 403
        },
        "outputId": "c634f0a9-9653-4fdc-fffa-70eb9c78db7b"
      },
      "source": [
        "Sport = []\n",
        "\n",
        "for sport in data['Sport'].unique():\n",
        "    Sport.append([sport , len(data[data['Sport']  == sport])])\n",
        "ss.DataFrame(Sport,columns = ['Sport','Medal']).sort_values(by='Medal', ascending=False).head().plot(x = 'Sport', y = 'Medal', kind = 'bar', figsize = (5,5))"
      ],
      "execution_count": 4,
      "outputs": [
        {
          "output_type": "execute_result",
          "data": {
            "text/plain": [
              "<matplotlib.axes._subplots.AxesSubplot at 0x7f09ccf6bf50>"
            ]
          },
          "metadata": {},
          "execution_count": 4
        },
        {
          "output_type": "display_data",
          "data": {
            "image/png": "[encoded data removed]",
            "text/plain": [
              "<Figure size 360x360 with 1 Axes>"
            ]
          },
          "metadata": {
            "needs_background": "light"
          }
        }
      ]
    },
    {
      "cell_type": "markdown",
      "metadata": {
        "id": "1fFsVUpbKAW4"
      },
      "source": [
        "### 4. Which player has won most number of medals? (Top 5)"
      ]
    },
    {
      "cell_type": "code",
      "metadata": {
        "colab": {
          "base_uri": "https://localhost:8080/",
          "height": 462
        },
        "id": "gdEn8we5KAW4",
        "outputId": "879bef43-b7af-485e-b26e-fb13220e1785"
      },
      "source": [
        "player = []\n",
        "\n",
        "for pl in data['Athlete'].unique():\n",
        "    player.append([pl , len(data[data['Athlete']  == pl])])\n",
        "ss.DataFrame(player,columns = ['Player','Medal']).sort_values(by='Medal', ascending=False).head().plot(x = 'Player', y = 'Medal', kind = 'bar', figsize = (5,5))"
      ],
      "execution_count": null,
      "outputs": [
        {
          "output_type": "execute_result",
          "data": {
            "text/plain": [
              "<matplotlib.axes._subplots.AxesSubplot at 0x7fb79913f850>"
            ]
          },
          "metadata": {},
          "execution_count": 5
        },
        {
          "output_type": "display_data",
          "data": {
            "image/png": "[encoded data removed]",
            "text/plain": [
              "<Figure size 360x360 with 1 Axes>"
            ]
          },
          "metadata": {
            "needs_background": "light"
          }
        }
      ]
    },
    {
      "cell_type": "markdown",
      "metadata": {
        "id": "AxMTIEPpKAW5"
      },
      "source": [
        "### 5. Which player has won most number Gold Medals of medals? (Top 5)"
      ]
    },
    {
      "cell_type": "code",
      "metadata": {
        "id": "KxoIf2HwKAW5",
        "colab": {
          "base_uri": "https://localhost:8080/",
          "height": 430
        },
        "outputId": "4c368f0e-4fef-4538-f987-6808eb0da943"
      },
      "source": [
        "gold_data_a=ss.DataFrame(data,columns = ['Athlete','Medal']).where(data['Medal'] == 'Gold').sort_values(by = 'Medal')\n",
        "gold_data_me_Athlete=[]\n",
        "for player in gold_data_a['Athlete'].unique():\n",
        "  gold_data_me_Athlete.append([player,len(gold_data_a[gold_data_a['Athlete']== player])])\n",
        "# ss.DataFrame(gold_data_me_Athlete,columns = ['Athlete','Gold Medal']).sort_values(by='Gold Medal', ascending=False).head()\n",
        "ss.DataFrame(gold_data_me_Athlete,columns = ['Athlete','Gold Medal']).sort_values(by='Gold Medal', ascending=False).head().plot(x = 'Athlete', y = 'Gold Medal', kind = 'bar', figsize = (5,5))\n",
        "    "
      ],
      "execution_count": 7,
      "outputs": [
        {
          "output_type": "execute_result",
          "data": {
            "text/plain": [
              "<matplotlib.axes._subplots.AxesSubplot at 0x7f09cae3e710>"
            ]
          },
          "metadata": {},
          "execution_count": 7
        },
        {
          "output_type": "display_data",
          "data": {
            "image/png": "[encoded data removed]",
            "text/plain": [
              "<Figure size 360x360 with 1 Axes>"
            ]
          },
          "metadata": {
            "needs_background": "light"
          }
        }
      ]
    },
    {
      "cell_type": "markdown",
      "metadata": {
        "id": "gnUyJePBKAW6"
      },
      "source": [
        "### 6. In which year India won first Gold Medal in Summer Olympics?"
      ]
    },
    {
      "cell_type": "code",
      "metadata": {
        "id": "qeXz2VEkKAW6",
        "colab": {
          "base_uri": "https://localhost:8080/"
        },
        "outputId": "11884a43-2592-4385-e6d7-9f69c4dd8a86"
      },
      "source": [
        "india_data=ss.DataFrame(data,columns = ['Country','Year','Medal']).where(data['Country'] == 'IND').where(data['Medal'] == 'Gold').sort_values(by='Medal')\n",
        "int(india_data.head(1)['Year'])"
      ],
      "execution_count": 9,
      "outputs": [
        {
          "output_type": "execute_result",
          "data": {
            "text/plain": [
              "1928"
            ]
          },
          "metadata": {},
          "execution_count": 9
        }
      ]
    },
    {
      "cell_type": "markdown",
      "metadata": {
        "id": "Id2HZFSIKAW7"
      },
      "source": [
        "### 7. Which event is most popular in terms on number of players? (Top 5)"
      ]
    },
    {
      "cell_type": "code",
      "metadata": {
        "colab": {
          "base_uri": "https://localhost:8080/",
          "height": 436
        },
        "id": "uLr9xLvTKAW7",
        "outputId": "017c7d2e-65af-4fff-b939-1ed9426c01e9"
      },
      "source": [
        "Test_data = []\n",
        "\n",
        "for event in data['Event'].unique():\n",
        "    Test_data.append([event , len(data[data['Event']  == event])])\n",
        "ss.DataFrame(Test_data,columns = ['Event','Players']).sort_values(by='Players', ascending=False).head().plot(x = 'Event', y = 'Players', kind = 'bar', figsize = (5,5))"
      ],
      "execution_count": null,
      "outputs": [
        {
          "output_type": "execute_result",
          "data": {
            "text/plain": [
              "<matplotlib.axes._subplots.AxesSubplot at 0x7fb79b20e750>"
            ]
          },
          "metadata": {},
          "execution_count": 4
        },
        {
          "output_type": "display_data",
          "data": {
            "image/png": "[encoded data removed]",
            "text/plain": [
              "<Figure size 360x360 with 1 Axes>"
            ]
          },
          "metadata": {
            "needs_background": "light"
          }
        }
      ]
    },
    {
      "cell_type": "markdown",
      "metadata": {
        "id": "ZStx4d5DKAW8"
      },
      "source": [
        "### 8. Which sport is having most female Gold Medalists? (Top 5)"
      ]
    },
    {
      "cell_type": "code",
      "metadata": {
        "id": "YqXDIbiWKAW8",
        "colab": {
          "base_uri": "https://localhost:8080/",
          "height": 403
        },
        "outputId": "48f0798a-4b18-4541-c690-c67aa94906c7"
      },
      "source": [
        "female_gold = ss.DataFrame(data,columns=[\"Sport\",'Medal','Gender']).where(data['Gender'] == 'Women').where(data['Medal'] == 'Gold').sort_values(by='Medal')\n",
        "female_sport=[]\n",
        "for sports in female_gold['Sport'].unique():\n",
        "  female_sport.append([sports,len(female_gold[female_gold['Sport'] == sports])])\n",
        "ss.DataFrame(female_sport,columns = ['Sport','Gold Medal']).sort_values(by='Gold Medal', ascending=False).head().plot(x = 'Sport', y = 'Gold Medal', kind = 'bar', figsize = (5,5))"
      ],
      "execution_count": 10,
      "outputs": [
        {
          "output_type": "execute_result",
          "data": {
            "text/plain": [
              "<matplotlib.axes._subplots.AxesSubplot at 0x7f09c9927650>"
            ]
          },
          "metadata": {},
          "execution_count": 10
        },
        {
          "output_type": "display_data",
          "data": {
            "image/png": "[encoded data removed]",
            "text/plain": [
              "<Figure size 360x360 with 1 Axes>"
            ]
          },
          "metadata": {
            "needs_background": "light"
          }
        }
      ]
    }
  ]
}